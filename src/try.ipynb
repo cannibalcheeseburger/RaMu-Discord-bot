{
 "cells": [
  {
   "cell_type": "code",
   "execution_count": 244,
   "metadata": {},
   "outputs": [],
   "source": [
    "import datetime\n",
    "\n",
    "today_date = datetime.date.today()\n",
    "reci = open('reci.txt','r+')\n"
   ]
  },
  {
   "cell_type": "code",
   "execution_count": 245,
   "metadata": {},
   "outputs": [
    {
     "output_type": "execute_result",
     "data": {
      "text/plain": "'2020-05-28\\n'"
     },
     "metadata": {},
     "execution_count": 245
    }
   ],
   "source": [
    "text = reci.readline()\n",
    "text"
   ]
  },
  {
   "cell_type": "code",
   "execution_count": 235,
   "metadata": {},
   "outputs": [
    {
     "output_type": "execute_result",
     "data": {
      "text/plain": "0"
     },
     "metadata": {},
     "execution_count": 235
    }
   ],
   "source": [
    "reci.seek(0)\n",
    "reci.truncate(0)\n"
   ]
  },
  {
   "cell_type": "code",
   "execution_count": 236,
   "metadata": {},
   "outputs": [
    {
     "output_type": "execute_result",
     "data": {
      "text/plain": "'2020-05-28'"
     },
     "metadata": {},
     "execution_count": 236
    }
   ],
   "source": [
    "text = str(today_date)\n",
    "text"
   ]
  },
  {
   "cell_type": "code",
   "execution_count": 237,
   "metadata": {},
   "outputs": [
    {
     "output_type": "execute_result",
     "data": {
      "text/plain": "5"
     },
     "metadata": {},
     "execution_count": 237
    }
   ],
   "source": [
    "reci.write(\"Hello\")"
   ]
  },
  {
   "cell_type": "code",
   "execution_count": 246,
   "metadata": {},
   "outputs": [
    {
     "output_type": "stream",
     "name": "stdout",
     "text": "2020-05-28\n\n"
    }
   ],
   "source": [
    "if not str(today_date) == text.strip():\n",
    "    #get recipe\n",
    "\n",
    "    # add time\n",
    "    reci.seek(0)\n",
    "    reci.truncate(0)\n",
    "    \n",
    "    #add recipe\n",
    "    text = str(today_date).strip() + \"\\nHello\"\n",
    "    #replace text to file\n",
    "    reci.writelines(text)\n",
    "print(text)\n",
    "\n"
   ]
  },
  {
   "cell_type": "code",
   "execution_count": 247,
   "metadata": {},
   "outputs": [],
   "source": [
    "reci.close()"
   ]
  },
  {
   "cell_type": "code",
   "execution_count": 6,
   "metadata": {},
   "outputs": [
    {
     "output_type": "stream",
     "name": "stdout",
     "text": "{\"recipes\":[{\"vegetarian\":true,\"vegan\":false,\"glutenFree\":false,\"dairyFree\":false,\"veryHealthy\":false,\"cheap\":false,\"veryPopular\":false,\"sustainable\":false,\"weightWatcherSmartPoints\":10,\"gaps\":\"no\",\"lowFodmap\":false,\"aggregateLikes\":40,\"spoonacularScore\":18.0,\"healthScore\":1.0,\"creditsText\":\"Foodista.com â€“ The Cooking Encyclopedia Everyone Can Edit\",\"license\":\"CC BY 3.0\",\"sourceName\":\"Foodista\",\"pricePerServing\":30.15,\"extendedIngredients\":[{\"id\":1145,\"aisle\":\"Milk, Eggs, Other Dairy\",\"image\":\"butter-sliced.jpg\",\"consistency\":\"solid\",\"name\":\"unsalted butter\",\"original\":\"1/2 cup unsalted butter at room temperature\",\"originalString\":\"1/2 cup unsalted butter at room temperature\",\"originalName\":\"unsalted butter at room temperature\",\"amount\":0.5,\"unit\":\"cup\",\"meta\":[\"unsalted\",\"at room temperature\"],\"metaInformation\":[\"unsalted\",\"at room temperature\"],\"measures\":{\"us\":{\"amount\":0.5,\"unitShort\":\"cups\",\"unitLong\":\"cups\"},\"metric\":{\"amount\":118.294,\"unitShort\":\"ml\",\"unitLong\":\"milliliters\"}}},{\"id\":20081,\"aisle\":\"Baking\",\"image\":\"flour.png\",\"consistency\":\"solid\",\"name\":\"all purpose flour\",\"original\":\"2 1/2 cups all purpose flour\",\"originalString\":\"2 1/2 cups all purpose flour\",\"originalName\":\"all purpose flour\",\"amount\":2.5,\"unit\":\"cups\",\"meta\":[],\"metaInformation\":[],\"measures\":{\"us\":{\"amount\":2.5,\"unitShort\":\"cups\",\"unitLong\":\"cups\"},\"metric\":{\"amount\":591.47,\"unitShort\":\"ml\",\"unitLong\":\"milliliters\"}}},{\"id\":19335,\"aisle\":\"Baking\",\"image\":\"sugar-in-bowl.png\",\"consistency\":\"solid\",\"name\":\"granulated sugar\",\"original\":\"1/2 cup granulated sugar\",\"originalString\":\"1/2 cup granulated sugar\",\"originalName\":\"granulated sugar\",\"amount\":0.5,\"unit\":\"cup\",\"meta\":[],\"metaInformation\":[],\"measures\":{\"us\":{\"amount\":0.5,\"unitShort\":\"cups\",\"unitLong\":\"cups\"},\"metric\":{\"amount\":118.294,\"unitShort\":\"ml\",\"unitLong\":\"milliliters\"}}},{\"id\":19304,\"aisle\":\"Baking\",\"image\":\"molasses.jpg\",\"consistency\":\"solid\",\"name\":\"molasses\",\"original\":\"1/2 cup molasses\",\"originalString\":\"1/2 cup molasses\",\"originalName\":\"molasses\",\"amount\":0.5,\"unit\":\"cup\",\"meta\":[],\"metaInformation\":[],\"measures\":{\"us\":{\"amount\":0.5,\"unitShort\":\"cups\",\"unitLong\":\"cups\"},\"metric\":{\"amount\":118.294,\"unitShort\":\"ml\",\"unitLong\":\"milliliters\"}}},{\"id\":1123,\"aisle\":\"Milk, Eggs, Other Dairy\",\"image\":\"egg.png\",\"consistency\":\"solid\",\"name\":\"egg\",\"original\":\"1 large egg at room temperature\",\"originalString\":\"1 large egg at room temperature\",\"originalName\":\"egg at room temperature\",\"amount\":1.0,\"unit\":\"large\",\"meta\":[\"at room temperature\"],\"metaInformation\":[\"at room temperature\"],\"measures\":{\"us\":{\"amount\":1.0,\"unitShort\":\"large\",\"unitLong\":\"large\"},\"metric\":{\"amount\":1.0,\"unitShort\":\"large\",\"unitLong\":\"large\"}}},{\"id\":2069,\"aisle\":\"Oil, Vinegar, Salad Dressing\",\"image\":\"balsamic-vinegar.jpg\",\"consistency\":\"liquid\",\"name\":\"balsamic vinegar\",\"original\":\"1 tablespoon balsamic vinegar\",\"originalString\":\"1 tablespoon balsamic vinegar\",\"originalName\":\"balsamic vinegar\",\"amount\":1.0,\"unit\":\"tablespoon\",\"meta\":[],\"metaInformation\":[],\"measures\":{\"us\":{\"amount\":1.0,\"unitShort\":\"Tbsp\",\"unitLong\":\"Tbsp\"},\"metric\":{\"amount\":1.0,\"unitShort\":\"Tbsp\",\"unitLong\":\"Tbsp\"}}},{\"id\":18371,\"aisle\":\"Baking\",\"image\":\"white-powder.jpg\",\"consistency\":\"solid\",\"name\":\"baking powder\",\"original\":\"1 teaspoon baking powder\",\"originalString\":\"1 teaspoon baking powder\",\"originalName\":\"baking powder\",\"amount\":1.0,\"unit\":\"teaspoon\",\"meta\":[],\"metaInformation\":[],\"measures\":{\"us\":{\"amount\":1.0,\"unitShort\":\"tsp\",\"unitLong\":\"teaspoon\"},\"metric\":{\"amount\":1.0,\"unitShort\":\"tsp\",\"unitLong\":\"teaspoon\"}}},{\"id\":2021,\"aisle\":\"Spices and Seasonings\",\"image\":\"ginger.png\",\"consistency\":\"solid\",\"name\":\"ground ginger\",\"original\":\"1 teaspoon ground ginger\",\"originalString\":\"1 teaspoon ground ginger\",\"originalName\":\"ground ginger\",\"amount\":1.0,\"unit\":\"teaspoon\",\"meta\":[],\"metaInformation\":[],\"measures\":{\"us\":{\"amount\":1.0,\"unitShort\":\"tsp\",\"unitLong\":\"teaspoon\"},\"metric\":{\"amount\":1.0,\"unitShort\":\"tsp\",\"unitLong\":\"teaspoon\"}}},{\"id\":18372,\"aisle\":\"Baking\",\"image\":\"white-powder.jpg\",\"consistency\":\"solid\",\"name\":\"baking soda\",\"original\":\"1/2 teaspoon baking soda\",\"originalString\":\"1/2 teaspoon baking soda\",\"originalName\":\"baking soda\",\"amount\":0.5,\"unit\":\"teaspoon\",\"meta\":[],\"metaInformation\":[],\"measures\":{\"us\":{\"amount\":0.5,\"unitShort\":\"tsps\",\"unitLong\":\"teaspoons\"},\"metric\":{\"amount\":0.5,\"unitShort\":\"tsps\",\"unitLong\":\"teaspoons\"}}},{\"id\":1012010,\"aisle\":\"Spices and Seasonings\",\"image\":\"cinnamon.jpg\",\"consistency\":\"solid\",\"name\":\"ground cinnamon\",\"original\":\"1/2 teaspoon ground cinnamon\",\"originalString\":\"1/2 teaspoon ground cinnamon\",\"originalName\":\"ground cinnamon\",\"amount\":0.5,\"unit\":\"teaspoon\",\"meta\":[],\"metaInformation\":[],\"measures\":{\"us\":{\"amount\":0.5,\"unitShort\":\"tsps\",\"unitLong\":\"teaspoons\"},\"metric\":{\"amount\":0.5,\"unitShort\":\"tsps\",\"unitLong\":\"teaspoons\"}}},{\"id\":2011,\"aisle\":\"Spices and Seasonings\",\"image\":\"cloves.jpg\",\"consistency\":\"solid\",\"name\":\"ground cloves\",\"original\":\"1/2 teaspoon ground cloves\",\"originalString\":\"1/2 teaspoon ground cloves\",\"originalName\":\"ground cloves\",\"amount\":0.5,\"unit\":\"teaspoon\",\"meta\":[],\"metaInformation\":[],\"measures\":{\"us\":{\"amount\":0.5,\"unitShort\":\"tsps\",\"unitLong\":\"teaspoons\"},\"metric\":{\"amount\":0.5,\"unitShort\":\"tsps\",\"unitLong\":\"teaspoons\"}}},{\"id\":2025,\"aisle\":\"Spices and Seasonings\",\"image\":\"ground-nutmeg.jpg\",\"consistency\":\"solid\",\"name\":\"ground nutmeg\",\"original\":\"1/2 teaspoon ground nutmeg\",\"originalString\":\"1/2 teaspoon ground nutmeg\",\"originalName\":\"ground nutmeg\",\"amount\":0.5,\"unit\":\"teaspoon\",\"meta\":[],\"metaInformation\":[],\"measures\":{\"us\":{\"amount\":0.5,\"unitShort\":\"tsps\",\"unitLong\":\"teaspoons\"},\"metric\":{\"amount\":0.5,\"unitShort\":\"tsps\",\"unitLong\":\"teaspoons\"}}},{\"id\":1082047,\"aisle\":\"Spices and Seasonings\",\"image\":\"salt.jpg\",\"consistency\":\"solid\",\"name\":\"kosher salt\",\"original\":\"1/4 teaspoon kosher salt\",\"originalString\":\"1/4 teaspoon kosher salt\",\"originalName\":\"kosher salt\",\"amount\":0.25,\"unit\":\"teaspoon\",\"meta\":[],\"metaInformation\":[],\"measures\":{\"us\":{\"amount\":0.25,\"unitShort\":\"tsps\",\"unitLong\":\"teaspoons\"},\"metric\":{\"amount\":0.25,\"unitShort\":\"tsps\",\"unitLong\":\"teaspoons\"}}},{\"id\":19336,\"aisle\":\"Baking\",\"image\":\"powdered-sugar.jpg\",\"consistency\":\"solid\",\"name\":\"powdered sugar\",\"original\":\"2 cups sifted powdered sugar\",\"originalString\":\"2 cups sifted powdered sugar\",\"originalName\":\"sifted powdered sugar\",\"amount\":2.0,\"unit\":\"cups\",\"meta\":[\"sifted\"],\"metaInformation\":[\"sifted\"],\"measures\":{\"us\":{\"amount\":2.0,\"unitShort\":\"cups\",\"unitLong\":\"cups\"},\"metric\":{\"amount\":473.176,\"unitShort\":\"ml\",\"unitLong\":\"milliliters\"}}},{\"id\":2050,\"aisle\":\"Baking\",\"image\":\"vanilla.jpg\",\"consistency\":\"solid\",\"name\":\"vanilla extract\",\"original\":\"1/2 teaspoon vanilla extract\",\"originalString\":\"1/2 teaspoon vanilla extract\",\"originalName\":\"vanilla extract\",\"amount\":0.5,\"unit\":\"teaspoon\",\"meta\":[],\"metaInformation\":[],\"measures\":{\"us\":{\"amount\":0.5,\"unitShort\":\"tsps\",\"unitLong\":\"teaspoons\"},\"metric\":{\"amount\":0.5,\"unitShort\":\"tsps\",\"unitLong\":\"teaspoons\"}}},{\"id\":1077,\"aisle\":\"Milk, Eggs, Other Dairy\",\"image\":\"milk.png\",\"consistency\":\"liquid\",\"name\":\"whole milk\",\"original\":\"2 tablespoons whole milk\",\"originalString\":\"2 tablespoons whole milk\",\"originalName\":\"whole milk\",\"amount\":2.0,\"unit\":\"tablespoons\",\"meta\":[\"whole\"],\"metaInformation\":[\"whole\"],\"measures\":{\"us\":{\"amount\":2.0,\"unitShort\":\"Tbsps\",\"unitLong\":\"Tbsps\"},\"metric\":{\"amount\":2.0,\"unitShort\":\"Tbsps\",\"unitLong\":\"Tbsps\"}}}],\"id\":644693,\"title\":\"Gingerbread Mummies\",\"readyInMinutes\":45,\"servings\":18,\"sourceUrl\":\"https://www.foodista.com/recipe/D5S56NHC/gingerbread-mummies\",\"image\":\"https://spoonacular.com/recipeImages/644693-556x370.jpg\",\"imageType\":\"jpg\",\"summary\":\"Gingerbread Mummies might be just the dessert you are searching for. This recipe serves 18 and costs 30 cents per serving. One portion of this dish contains roughly <b>2g of protein</b>, <b>6g of fat</b>, and a total of <b>217 calories</b>. It is brought to you by Foodista. This recipe is liked by 40 foodies and cooks. Head to the store and pick up ground cinnamon, balsamic vinegar, , and a few other things to make it today. It is perfect for <b>Christmas</b>. It is a good option if you're following a <b>lacto ovo vegetarian</b> diet. From preparation to the plate, this recipe takes approximately <b>approximately 45 minutes</b>. Taking all factors into account, this recipe <b>earns a spoonacular score of 16%</b>, which is not so awesome. <a href=\\\"https://spoonacular.com/recipes/marshmallow-mummies-521064\\\">Marshmallow Mummies</a>, <a href=\\\"https://spoonacular.com/recipes/mummies-on-a-stick-399721\\\">Mummies on a Stick</a>, and <a href=\\\"https://spoonacular.com/recipes/yummy-mummies-109761\\\">Yummy Mummies</a> are very similar to this recipe.\",\"cuisines\":[],\"dishTypes\":[\"dessert\"],\"diets\":[\"lacto ovo vegetarian\"],\"occasions\":[\"christmas\"],\"winePairing\":{\"pairedWines\":[\"cream sherry\",\"moscato dasti\",\"port\"],\"pairingText\":\"Cream Sherry, Moscato d'Asti, and Port are great choices for Gingerbread. A common wine pairing rule is to make sure your wine is sweeter than your food. Delicate desserts go well with Moscato d'Asti, nutty desserts with cream sherry, and caramel or chocolate desserts pair well with port. You could try NV Solera Cream Sherry. Reviewers quite like it with a 4.5 out of 5 star rating and a price of about 17 dollars per bottle.\",\"productMatches\":[{\"id\":428475,\"title\":\"NV Solera Cream Sherry\",\"description\":\"The Solera Cream Sherry has a brilliant amber and deep copper hue. With butterscotch and pecan aromas, the sweet salted nut and brown spice aromas carry a complex caramel accent. A sweet entry leads to a rounded, lush, moderately full-bodied palate with a lengthy, flavorful finish.\",\"price\":\"$16.99\",\"imageUrl\":\"https://spoonacular.com/productImages/428475-312x231.jpg\",\"averageRating\":0.9,\"ratingCount\":4.0,\"score\":0.823076923076923,\"link\":\"https://www.amazon.com/NV-Solera-Cream-Sherry-750/dp/B00HSME8OW?tag=spoonacular-20\"}]},\"instructions\":\"In a bowl of an electric mixer, beat the butter until light and fluffy.\\nIn a separate small bowl, whisk together the flour, baking powder, ground ginger, baking soda, cinnamon, cloves, nutmeg and salt. Set aside.\\nAdd the sugar to the butter and beat until light and fluffy. Turn the mixer to low and mix in the molasses, egg and balsamic vinegar. Slowly add the dry ingredients to the bowl and continue mixing until thoroughly combined.\\nCover and chill about 2 hours or until the dough is easy to handle.\\nPreheat oven to 400 degrees.\\nDivide the dough in half and turn out onto a lightly floured surface. Roll each half of the dough to 1/4\\\" thickness adding flour as needed, the dough is very sticky so use flour liberally to prevent your cutouts from sticking to the surface.\\nUsing cookie cutters, cut dough into shapes and place on a baking sheet lined with parchment approximately 1\\\" apart.\\nBake in a 400 degree oven for 5-6 minutes. Cool on baking sheets for one minute and move to a wire rack.\\nIn a small bowl, combine the powdered sugar, vanilla and milk. Whisk to combine. Spoon mixture into a pastry bag or zip top bag and snip off the tip. Add two small dots of icing where the eyes should be and then press one eye on each dot. Decorate the mummies using a zig-zag pattern across the surface of the cookie and allow to dry for 2-4 hours or overnight.\\nStore in an airtight container.\",\"analyzedInstructions\":[{\"name\":\"\",\"steps\":[{\"number\":1,\"step\":\"In a bowl of an electric mixer, beat the butter until light and fluffy.\",\"ingredients\":[],\"equipment\":[{\"id\":404628,\"name\":\"hand mixer\",\"image\":\"hand-mixer.png\"},{\"id\":404783,\"name\":\"bowl\",\"image\":\"bowl.jpg\"}]},{\"number\":2,\"step\":\"In a separate small bowl, whisk together the flour, baking powder, ground ginger, baking soda, cinnamon, cloves, nutmeg and salt. Set aside.\",\"ingredients\":[{\"id\":2021,\"name\":\"ginger powder\",\"image\":\"ginger.png\"},{\"id\":18372,\"name\":\"baking soda\",\"image\":\"white-powder.jpg\"},{\"id\":2010,\"name\":\"cinnamon\",\"image\":\"cinnamon.jpg\"},{\"id\":1002011,\"name\":\"clove\",\"image\":\"cloves.jpg\"},{\"id\":2025,\"name\":\"nutmeg\",\"image\":\"ground-nutmeg.jpg\"},{\"id\":20081,\"name\":\"all purpose flour\",\"image\":\"flour.png\"},{\"id\":2047,\"name\":\"salt\",\"image\":\"salt.jpg\"}],\"equipment\":[{\"id\":404661,\"name\":\"whisk\",\"image\":\"whisk.png\"},{\"id\":404783,\"name\":\"bowl\",\"image\":\"bowl.jpg\"}]},{\"number\":3,\"step\":\"Add the sugar to the butter and beat until light and fluffy. Turn the mixer to low and mix in the molasses, egg and balsamic vinegar. Slowly add the dry ingredients to the bowl and continue mixing until thoroughly combined.\",\"ingredients\":[{\"id\":2069,\"name\":\"balsamic vinegar\",\"image\":\"balsamic-vinegar.jpg\"},{\"id\":19304,\"name\":\"molasses\",\"image\":\"molasses.jpg\"},{\"id\":19335,\"name\":\"sugar\",\"image\":\"sugar-in-bowl.png\"},{\"id\":1123,\"name\":\"egg\",\"image\":\"egg.png\"}],\"equipment\":[{\"id\":404726,\"name\":\"blender\",\"image\":\"blender.png\"},{\"id\":404783,\"name\":\"bowl\",\"image\":\"bowl.jpg\"}]},{\"number\":4,\"step\":\"Cover and chill about 2 hours or until the dough is easy to handle.\",\"ingredients\":[],\"equipment\":[]},{\"number\":5,\"step\":\"Preheat oven to 400 degrees.\",\"ingredients\":[],\"equipment\":[{\"id\":404784,\"name\":\"oven\",\"image\":\"oven.jpg\"}]},{\"number\":6,\"step\":\"Divide the dough in half and turn out onto a lightly floured surface.\",\"ingredients\":[],\"equipment\":[]},{\"number\":7,\"step\":\"Roll each half of the dough to 1/4\\\" thickness adding flour as needed, the dough is very sticky so use flour liberally to prevent your cutouts from sticking to the surface.\",\"ingredients\":[{\"id\":20081,\"name\":\"all purpose flour\",\"image\":\"flour.png\"}],\"equipment\":[]},{\"number\":8,\"step\":\"Using cookie cutters, cut dough into shapes and place on a baking sheet lined with parchment approximately 1\\\" apart.\",\"ingredients\":[],\"equipment\":[{\"id\":221429,\"name\":\"cookie cutter\",\"image\":\"cookie-cutters.jpg\"},{\"id\":404727,\"name\":\"baking sheet\",\"image\":\"baking-sheet.jpg\"}]},{\"number\":9,\"step\":\"Bake in a 400 degree oven for 5-6 minutes. Cool on baking sheets for one minute and move to a wire rack.\",\"ingredients\":[],\"equipment\":[{\"id\":404727,\"name\":\"baking sheet\",\"image\":\"baking-sheet.jpg\"},{\"id\":405900,\"name\":\"wire rack\",\"image\":\"wire-rack.jpg\"},{\"id\":404784,\"name\":\"oven\",\"image\":\"oven.jpg\"}],\"length\":{\"number\":7,\"unit\":\"minutes\"}},{\"number\":10,\"step\":\"In a small bowl, combine the powdered sugar, vanilla and milk.\",\"ingredients\":[{\"id\":19336,\"name\":\"powdered sugar\",\"image\":\"powdered-sugar.jpg\"},{\"id\":2050,\"name\":\"vanilla\",\"image\":\"vanilla.jpg\"},{\"id\":1077,\"name\":\"milk\",\"image\":\"milk.png\"}],\"equipment\":[{\"id\":404783,\"name\":\"bowl\",\"image\":\"bowl.jpg\"}]},{\"number\":11,\"step\":\"Whisk to combine. Spoon mixture into a pastry bag or zip top bag and snip off the tip.\",\"ingredients\":[],\"equipment\":[{\"id\":404757,\"name\":\"pastry bag\",\"image\":\"pastry-bag.jpg\"},{\"id\":404661,\"name\":\"whisk\",\"image\":\"whisk.png\"}]},{\"number\":12,\"step\":\"Add two small dots of icing where the eyes should be and then press one eye on each dot. Decorate the mummies using a zig-zag pattern across the surface of the cookie and allow to dry for 2-4 hours or overnight.\",\"ingredients\":[],\"equipment\":[]},{\"number\":13,\"step\":\"Store in an airtight container.\",\"ingredients\":[],\"equipment\":[]}]}],\"originalId\":null,\"spoonacularSourceUrl\":\"https://spoonacular.com/gingerbread-mummies-644693\"}]}\n"
    }
   ],
   "source": [
    "import requests\n",
    "\n",
    "url = \"https://spoonacular-recipe-food-nutrition-v1.p.rapidapi.com/recipes/random\"\n",
    "\n",
    "querystring = {\"number\":\"1\",\"tags\":\"vegetarian%2Cdessert\"}\n",
    "\n",
    "headers = {\n",
    "    'x-rapidapi-host': \"spoonacular-recipe-food-nutrition-v1.p.rapidapi.com\",\n",
    "    'x-rapidapi-key': \"824bc0944dmsha1058bd1b0cc53ap1e9c21jsnb8d7f51fef9e\"\n",
    "    }\n",
    "\n",
    "response = requests.request(\"GET\", url, headers=headers, params=querystring)\n",
    "\n",
    "print(response.text)"
   ]
  },
  {
   "cell_type": "code",
   "execution_count": 9,
   "metadata": {},
   "outputs": [
    {
     "output_type": "error",
     "ename": "AttributeError",
     "evalue": "'Response' object has no attribute 'read'",
     "traceback": [
      "\u001b[1;31m---------------------------------------------------------------------------\u001b[0m",
      "\u001b[1;31mAttributeError\u001b[0m                            Traceback (most recent call last)",
      "\u001b[1;32m<ipython-input-9-9fc64a676ad5>\u001b[0m in \u001b[0;36m<module>\u001b[1;34m\u001b[0m\n\u001b[1;32m----> 1\u001b[1;33m \u001b[0mresponse\u001b[0m\u001b[1;33m.\u001b[0m\u001b[0mread\u001b[0m\u001b[1;33m(\u001b[0m\u001b[1;33m)\u001b[0m\u001b[1;33m\u001b[0m\u001b[1;33m\u001b[0m\u001b[0m\n\u001b[0m",
      "\u001b[1;31mAttributeError\u001b[0m: 'Response' object has no attribute 'read'"
     ]
    }
   ],
   "source": [
    "response.read()"
   ]
  },
  {
   "cell_type": "code",
   "execution_count": 10,
   "metadata": {},
   "outputs": [],
   "source": [
    "import json\n",
    "data  = response.json()"
   ]
  },
  {
   "cell_type": "code",
   "execution_count": 40,
   "metadata": {},
   "outputs": [
    {
     "output_type": "stream",
     "name": "stdout",
     "text": "Gingerbread Mummies\n1 unsalted butter\n1/2 cup unsalted butter at room temperature\n2 all purpose flour\n2 1/2 cups all purpose flour\n3 granulated sugar\n1/2 cup granulated sugar\n4 molasses\n1/2 cup molasses\n5 egg\n1 large egg at room temperature\n6 balsamic vinegar\n1 tablespoon balsamic vinegar\n7 baking powder\n1 teaspoon baking powder\n8 ground ginger\n1 teaspoon ground ginger\n9 baking soda\n1/2 teaspoon baking soda\n10 ground cinnamon\n1/2 teaspoon ground cinnamon\n11 ground cloves\n1/2 teaspoon ground cloves\n12 ground nutmeg\n1/2 teaspoon ground nutmeg\n13 kosher salt\n1/4 teaspoon kosher salt\n14 powdered sugar\n2 cups sifted powdered sugar\n15 vanilla extract\n1/2 teaspoon vanilla extract\n16 whole milk\n2 tablespoons whole milk\nIn a bowl of an electric mixer, beat the butter until light and fluffy.\nIn a separate small bowl, whisk together the flour, baking powder, ground ginger, baking soda, cinnamon, cloves, nutmeg and salt. Set aside.\nAdd the sugar to the butter and beat until light and fluffy. Turn the mixer to low and mix in the molasses, egg and balsamic vinegar. Slowly add the dry ingredients to the bowl and continue mixing until thoroughly combined.\nCover and chill about 2 hours or until the dough is easy to handle.\nPreheat oven to 400 degrees.\nDivide the dough in half and turn out onto a lightly floured surface. Roll each half of the dough to 1/4\" thickness adding flour as needed, the dough is very sticky so use flour liberally to prevent your cutouts from sticking to the surface.\nUsing cookie cutters, cut dough into shapes and place on a baking sheet lined with parchment approximately 1\" apart.\nBake in a 400 degree oven for 5-6 minutes. Cool on baking sheets for one minute and move to a wire rack.\nIn a small bowl, combine the powdered sugar, vanilla and milk. Whisk to combine. Spoon mixture into a pastry bag or zip top bag and snip off the tip. Add two small dots of icing where the eyes should be and then press one eye on each dot. Decorate the mummies using a zig-zag pattern across the surface of the cookie and allow to dry for 2-4 hours or overnight.\nStore in an airtight container.\n"
    }
   ],
   "source": [
    "for item  in data['recipes']:\n",
    "    print(item['title'])\n",
    "    count = 1\n",
    "    for ing in item['extendedIngredients']:\n",
    "        print(count,ing['name'])\n",
    "        print(ing['original'])\n",
    "        count = count +1\n",
    "    print(item['instructions'])\n",
    "    "
   ]
  },
  {
   "cell_type": "code",
   "execution_count": 24,
   "metadata": {},
   "outputs": [
    {
     "output_type": "error",
     "ename": "NameError",
     "evalue": "name 'text' is not defined",
     "traceback": [
      "\u001b[1;31m---------------------------------------------------------------------------\u001b[0m",
      "\u001b[1;31mNameError\u001b[0m                                 Traceback (most recent call last)",
      "\u001b[1;32m<ipython-input-24-ac0aa37a36f6>\u001b[0m in \u001b[0;36m<module>\u001b[1;34m\u001b[0m\n\u001b[0;32m      1\u001b[0m \u001b[1;32mimport\u001b[0m \u001b[0mre\u001b[0m\u001b[1;33m\u001b[0m\u001b[1;33m\u001b[0m\u001b[0m\n\u001b[0;32m      2\u001b[0m \u001b[0mclean\u001b[0m \u001b[1;33m=\u001b[0m \u001b[0mre\u001b[0m\u001b[1;33m.\u001b[0m\u001b[0mcompile\u001b[0m\u001b[1;33m(\u001b[0m\u001b[1;34m'<.*?>'\u001b[0m\u001b[1;33m)\u001b[0m\u001b[1;33m\u001b[0m\u001b[1;33m\u001b[0m\u001b[0m\n\u001b[1;32m----> 3\u001b[1;33m \u001b[0mre\u001b[0m\u001b[1;33m.\u001b[0m\u001b[0msub\u001b[0m\u001b[1;33m(\u001b[0m\u001b[0mclean\u001b[0m\u001b[1;33m,\u001b[0m \u001b[1;34m''\u001b[0m\u001b[1;33m,\u001b[0m \u001b[0mtext\u001b[0m\u001b[1;33m)\u001b[0m\u001b[1;33m\u001b[0m\u001b[1;33m\u001b[0m\u001b[0m\n\u001b[0m",
      "\u001b[1;31mNameError\u001b[0m: name 'text' is not defined"
     ]
    }
   ],
   "source": [
    "import re\n",
    "clean = re.compile('<.*?>')\n",
    "re.sub(clean, '', text)"
   ]
  },
  {
   "cell_type": "code",
   "execution_count": 35,
   "metadata": {},
   "outputs": [
    {
     "output_type": "execute_result",
     "data": {
      "text/plain": "'In a bowl of an electric mixer, beat the butter until light and fluffy.\\nIn a separate small bowl, whisk together the flour, baking powder, ground ginger, baking soda, cinnamon, cloves, nutmeg and salt. Set aside.\\nAdd the sugar to the butter and beat until light and fluffy. Turn the mixer to low and mix in the molasses, egg and balsamic vinegar. Slowly add the dry ingredients to the bowl and continue mixing until thoroughly combined.\\nCover and chill about 2 hours or until the dough is easy to handle.\\nPreheat oven to 400 degrees.\\nDivide the dough in half and turn out onto a lightly floured surface. Roll each half of the dough to 1/4\" thickness adding flour as needed, the dough is very sticky so use flour liberally to prevent your cutouts from sticking to the surface.\\nUsing cookie cutters, cut dough into shapes and place on a baking sheet lined with parchment approximately 1\" apart.\\nBake in a 400 degree oven for 5-6 minutes. Cool on baking sheets for one minute and move to a wire rack.\\nIn a small bowl, combine the powdered sugar, vanilla and milk. Whisk to combine. Spoon mixture into a pastry bag or zip top bag and snip off the tip. Add two small dots of icing where the eyes should be and then press one eye on each dot. Decorate the mummies using a zig-zag pattern across the surface of the cookie and allow to dry for 2-4 hours or overnight.\\nStore in an airtight container.'"
     },
     "metadata": {},
     "execution_count": 35
    }
   ],
   "source": [
    "summary"
   ]
  },
  {
   "cell_type": "code",
   "execution_count": null,
   "metadata": {},
   "outputs": [],
   "source": []
  }
 ],
 "metadata": {
  "language_info": {
   "codemirror_mode": {
    "name": "ipython",
    "version": 3
   },
   "file_extension": ".py",
   "mimetype": "text/x-python",
   "name": "python",
   "nbconvert_exporter": "python",
   "pygments_lexer": "ipython3",
   "version": "3.7.6-final"
  },
  "orig_nbformat": 2,
  "kernelspec": {
   "name": "python37664bit1d7ef2e8cff042f78a509e385ee1219d",
   "display_name": "Python 3.7.6 64-bit"
  }
 },
 "nbformat": 4,
 "nbformat_minor": 2
}